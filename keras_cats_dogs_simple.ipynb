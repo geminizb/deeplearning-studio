{
 "cells": [
  {
   "cell_type": "code",
   "execution_count": 29,
   "metadata": {},
   "outputs": [],
   "source": [
    "import os"
   ]
  },
  {
   "cell_type": "code",
   "execution_count": 30,
   "metadata": {},
   "outputs": [],
   "source": [
    "base_dir = 'cats_and_dogs'\n",
    "train_dir = os.path.join(base_dir, 'train')\n",
    "validation_dir = os.path.join(base_dir, 'validation')\n",
    "test_dir = os.path.join(base_dir, 'test')"
   ]
  },
  {
   "cell_type": "code",
   "execution_count": 25,
   "metadata": {},
   "outputs": [],
   "source": [
    "from keras import models, layers, optimizers"
   ]
  },
  {
   "cell_type": "code",
   "execution_count": 67,
   "metadata": {},
   "outputs": [],
   "source": [
    "network = models.Sequential()"
   ]
  },
  {
   "cell_type": "code",
   "execution_count": 68,
   "metadata": {},
   "outputs": [],
   "source": [
    "network.add(layers.Conv2D(32, (3, 3), activation='relu', input_shape=(150, 150, 3)))\n",
    "network.add(layers.MaxPooling2D(2, 2))\n",
    "network.add(layers.Conv2D(64, (3, 3), activation='relu'))\n",
    "network.add(layers.MaxPooling2D(2, 2))\n",
    "network.add(layers.Conv2D(128, (3, 3), activation='relu'))\n",
    "network.add(layers.MaxPooling2D(2, 2))\n",
    "network.add(layers.Conv2D(128, (3, 3), activation='relu'))\n",
    "network.add(layers.MaxPooling2D(2, 2))\n",
    "network.add(layers.Flatten())\n",
    "network.add(layers.Dense(512, activation='relu'))\n",
    "network.add(layers.Dropout(0.5))\n",
    "network.add(layers.Dense(1, activation='sigmoid'))"
   ]
  },
  {
   "cell_type": "code",
   "execution_count": 69,
   "metadata": {
    "scrolled": false
   },
   "outputs": [
    {
     "name": "stdout",
     "output_type": "stream",
     "text": [
      "_________________________________________________________________\n",
      "Layer (type)                 Output Shape              Param #   \n",
      "=================================================================\n",
      "conv2d_6 (Conv2D)            (None, 148, 148, 32)      896       \n",
      "_________________________________________________________________\n",
      "max_pooling2d_5 (MaxPooling2 (None, 74, 74, 32)        0         \n",
      "_________________________________________________________________\n",
      "conv2d_7 (Conv2D)            (None, 72, 72, 64)        18496     \n",
      "_________________________________________________________________\n",
      "max_pooling2d_6 (MaxPooling2 (None, 36, 36, 64)        0         \n",
      "_________________________________________________________________\n",
      "conv2d_8 (Conv2D)            (None, 34, 34, 128)       73856     \n",
      "_________________________________________________________________\n",
      "max_pooling2d_7 (MaxPooling2 (None, 17, 17, 128)       0         \n",
      "_________________________________________________________________\n",
      "conv2d_9 (Conv2D)            (None, 15, 15, 128)       147584    \n",
      "_________________________________________________________________\n",
      "max_pooling2d_8 (MaxPooling2 (None, 7, 7, 128)         0         \n",
      "_________________________________________________________________\n",
      "flatten_2 (Flatten)          (None, 6272)              0         \n",
      "_________________________________________________________________\n",
      "dense_3 (Dense)              (None, 512)               3211776   \n",
      "_________________________________________________________________\n",
      "dropout_1 (Dropout)          (None, 512)               0         \n",
      "_________________________________________________________________\n",
      "dense_4 (Dense)              (None, 1)                 513       \n",
      "=================================================================\n",
      "Total params: 3,453,121\n",
      "Trainable params: 3,453,121\n",
      "Non-trainable params: 0\n",
      "_________________________________________________________________\n"
     ]
    }
   ],
   "source": [
    "network.summary()"
   ]
  },
  {
   "cell_type": "code",
   "execution_count": 70,
   "metadata": {},
   "outputs": [],
   "source": [
    "network.compile(loss='binary_crossentropy', \n",
    "                optimizer=optimizers.RMSprop(lr=1e-4), \n",
    "                metrics=['acc'])"
   ]
  },
  {
   "cell_type": "code",
   "execution_count": 52,
   "metadata": {},
   "outputs": [],
   "source": [
    "from keras.preprocessing import image\n",
    "from keras.preprocessing.image import ImageDataGenerator"
   ]
  },
  {
   "cell_type": "code",
   "execution_count": 63,
   "metadata": {},
   "outputs": [],
   "source": [
    "train_datagen = ImageDataGenerator(rescale=1./255, \n",
    "                                   rotation_range=40, \n",
    "                                   width_shift_range=0.2, \n",
    "                                   height_shift_range=0.2, \n",
    "                                   shear_range=0.2, \n",
    "                                   zoom_range=0.2, \n",
    "                                   horizontal_flip=True, \n",
    "                                   fill_mode='nearest')\n",
    "val_datagen = ImageDataGenerator(rescale=1./255)"
   ]
  },
  {
   "cell_type": "code",
   "execution_count": 64,
   "metadata": {},
   "outputs": [
    {
     "name": "stdout",
     "output_type": "stream",
     "text": [
      "Found 2000 images belonging to 2 classes.\n",
      "Found 1000 images belonging to 2 classes.\n"
     ]
    }
   ],
   "source": [
    "train_generator = train_datagen.flow_from_directory(train_dir, \n",
    "                                                    target_size=(150, 150), \n",
    "                                                    batch_size=32, \n",
    "                                                    class_mode='binary')\n",
    "\n",
    "validation_generator = val_datagen.flow_from_directory(validation_dir, \n",
    "                                                       target_size=(150, 150), \n",
    "                                                       batch_size=20, \n",
    "                                                       class_mode='binary')"
   ]
  },
  {
   "cell_type": "code",
   "execution_count": 71,
   "metadata": {},
   "outputs": [
    {
     "name": "stdout",
     "output_type": "stream",
     "text": [
      "Epoch 1/30\n",
      " 38/100 [==========>...................] - ETA: 1:40 - loss: 0.6998 - acc: 0.4868"
     ]
    },
    {
     "name": "stderr",
     "output_type": "stream",
     "text": [
      "C:\\Users\\bin b zhu\\AppData\\Local\\Continuum\\anaconda3\\lib\\site-packages\\PIL\\TiffImagePlugin.py:739: UserWarning: Possibly corrupt EXIF data.  Expecting to read 80000 bytes but only got 0. Skipping tag 64640\n",
      "  \" Skipping tag %s\" % (size, len(data), tag))\n",
      "C:\\Users\\bin b zhu\\AppData\\Local\\Continuum\\anaconda3\\lib\\site-packages\\PIL\\TiffImagePlugin.py:739: UserWarning: Possibly corrupt EXIF data.  Expecting to read 6553600 bytes but only got 0. Skipping tag 49\n",
      "  \" Skipping tag %s\" % (size, len(data), tag))\n",
      "C:\\Users\\bin b zhu\\AppData\\Local\\Continuum\\anaconda3\\lib\\site-packages\\PIL\\TiffImagePlugin.py:739: UserWarning: Possibly corrupt EXIF data.  Expecting to read 1050744 bytes but only got 4951. Skipping tag 51\n",
      "  \" Skipping tag %s\" % (size, len(data), tag))\n",
      "C:\\Users\\bin b zhu\\AppData\\Local\\Continuum\\anaconda3\\lib\\site-packages\\PIL\\TiffImagePlugin.py:739: UserWarning: Possibly corrupt EXIF data.  Expecting to read 293339136 bytes but only got 0. Skipping tag 5\n",
      "  \" Skipping tag %s\" % (size, len(data), tag))\n",
      "C:\\Users\\bin b zhu\\AppData\\Local\\Continuum\\anaconda3\\lib\\site-packages\\PIL\\TiffImagePlugin.py:739: UserWarning: Possibly corrupt EXIF data.  Expecting to read 293863424 bytes but only got 0. Skipping tag 5\n",
      "  \" Skipping tag %s\" % (size, len(data), tag))\n",
      "C:\\Users\\bin b zhu\\AppData\\Local\\Continuum\\anaconda3\\lib\\site-packages\\PIL\\TiffImagePlugin.py:739: UserWarning: Possibly corrupt EXIF data.  Expecting to read 3368026112 bytes but only got 0. Skipping tag 7\n",
      "  \" Skipping tag %s\" % (size, len(data), tag))\n",
      "C:\\Users\\bin b zhu\\AppData\\Local\\Continuum\\anaconda3\\lib\\site-packages\\PIL\\TiffImagePlugin.py:739: UserWarning: Possibly corrupt EXIF data.  Expecting to read 134479872 bytes but only got 0. Skipping tag 7\n",
      "  \" Skipping tag %s\" % (size, len(data), tag))\n",
      "C:\\Users\\bin b zhu\\AppData\\Local\\Continuum\\anaconda3\\lib\\site-packages\\PIL\\TiffImagePlugin.py:739: UserWarning: Possibly corrupt EXIF data.  Expecting to read 295698432 bytes but only got 0. Skipping tag 10\n",
      "  \" Skipping tag %s\" % (size, len(data), tag))\n",
      "C:\\Users\\bin b zhu\\AppData\\Local\\Continuum\\anaconda3\\lib\\site-packages\\PIL\\TiffImagePlugin.py:739: UserWarning: Possibly corrupt EXIF data.  Expecting to read 296222720 bytes but only got 0. Skipping tag 5\n",
      "  \" Skipping tag %s\" % (size, len(data), tag))\n",
      "C:\\Users\\bin b zhu\\AppData\\Local\\Continuum\\anaconda3\\lib\\site-packages\\PIL\\TiffImagePlugin.py:739: UserWarning: Possibly corrupt EXIF data.  Expecting to read 3300917248 bytes but only got 0. Skipping tag 7\n",
      "  \" Skipping tag %s\" % (size, len(data), tag))\n",
      "C:\\Users\\bin b zhu\\AppData\\Local\\Continuum\\anaconda3\\lib\\site-packages\\PIL\\TiffImagePlugin.py:739: UserWarning: Possibly corrupt EXIF data.  Expecting to read 65536 bytes but only got 0. Skipping tag 3\n",
      "  \" Skipping tag %s\" % (size, len(data), tag))\n",
      "C:\\Users\\bin b zhu\\AppData\\Local\\Continuum\\anaconda3\\lib\\site-packages\\PIL\\TiffImagePlugin.py:739: UserWarning: Possibly corrupt EXIF data.  Expecting to read 14745600 bytes but only got 0. Skipping tag 4\n",
      "  \" Skipping tag %s\" % (size, len(data), tag))\n",
      "C:\\Users\\bin b zhu\\AppData\\Local\\Continuum\\anaconda3\\lib\\site-packages\\PIL\\TiffImagePlugin.py:739: UserWarning: Possibly corrupt EXIF data.  Expecting to read 25624576 bytes but only got 0. Skipping tag 4\n",
      "  \" Skipping tag %s\" % (size, len(data), tag))\n",
      "C:\\Users\\bin b zhu\\AppData\\Local\\Continuum\\anaconda3\\lib\\site-packages\\PIL\\TiffImagePlugin.py:739: UserWarning: Possibly corrupt EXIF data.  Expecting to read 317718528 bytes but only got 4956. Skipping tag 4\n",
      "  \" Skipping tag %s\" % (size, len(data), tag))\n",
      "C:\\Users\\bin b zhu\\AppData\\Local\\Continuum\\anaconda3\\lib\\site-packages\\PIL\\TiffImagePlugin.py:739: UserWarning: Possibly corrupt EXIF data.  Expecting to read 131073 bytes but only got 4952. Skipping tag 0\n",
      "  \" Skipping tag %s\" % (size, len(data), tag))\n",
      "C:\\Users\\bin b zhu\\AppData\\Local\\Continuum\\anaconda3\\lib\\site-packages\\PIL\\TiffImagePlugin.py:739: UserWarning: Possibly corrupt EXIF data.  Expecting to read 393216 bytes but only got 0. Skipping tag 3\n",
      "  \" Skipping tag %s\" % (size, len(data), tag))\n",
      "C:\\Users\\bin b zhu\\AppData\\Local\\Continuum\\anaconda3\\lib\\site-packages\\PIL\\TiffImagePlugin.py:739: UserWarning: Possibly corrupt EXIF data.  Expecting to read 287178752 bytes but only got 0. Skipping tag 5\n",
      "  \" Skipping tag %s\" % (size, len(data), tag))\n",
      "C:\\Users\\bin b zhu\\AppData\\Local\\Continuum\\anaconda3\\lib\\site-packages\\PIL\\TiffImagePlugin.py:739: UserWarning: Possibly corrupt EXIF data.  Expecting to read 287703040 bytes but only got 0. Skipping tag 5\n",
      "  \" Skipping tag %s\" % (size, len(data), tag))\n",
      "C:\\Users\\bin b zhu\\AppData\\Local\\Continuum\\anaconda3\\lib\\site-packages\\PIL\\TiffImagePlugin.py:739: UserWarning: Possibly corrupt EXIF data.  Expecting to read 131072 bytes but only got 0. Skipping tag 3\n",
      "  \" Skipping tag %s\" % (size, len(data), tag))\n",
      "C:\\Users\\bin b zhu\\AppData\\Local\\Continuum\\anaconda3\\lib\\site-packages\\PIL\\TiffImagePlugin.py:739: UserWarning: Possibly corrupt EXIF data.  Expecting to read 524288 bytes but only got 0. Skipping tag 4\n",
      "  \" Skipping tag %s\" % (size, len(data), tag))\n",
      "C:\\Users\\bin b zhu\\AppData\\Local\\Continuum\\anaconda3\\lib\\site-packages\\PIL\\TiffImagePlugin.py:739: UserWarning: Possibly corrupt EXIF data.  Expecting to read 286654464 bytes but only got 4956. Skipping tag 4\n",
      "  \" Skipping tag %s\" % (size, len(data), tag))\n",
      "C:\\Users\\bin b zhu\\AppData\\Local\\Continuum\\anaconda3\\lib\\site-packages\\PIL\\TiffImagePlugin.py:756: UserWarning: Corrupt EXIF data.  Expecting to read 12 bytes but only got 2. \n",
      "  warnings.warn(str(msg))\n"
     ]
    },
    {
     "name": "stdout",
     "output_type": "stream",
     "text": [
      " 99/100 [============================>.] - ETA: 1s - loss: 0.6938 - acc: 0.5189"
     ]
    },
    {
     "name": "stderr",
     "output_type": "stream",
     "text": [
      "C:\\Users\\bin b zhu\\AppData\\Local\\Continuum\\anaconda3\\lib\\site-packages\\PIL\\TiffImagePlugin.py:739: UserWarning: Possibly corrupt EXIF data.  Expecting to read 404094976 bytes but only got 0. Skipping tag 5\n",
      "  \" Skipping tag %s\" % (size, len(data), tag))\n",
      "C:\\Users\\bin b zhu\\AppData\\Local\\Continuum\\anaconda3\\lib\\site-packages\\PIL\\TiffImagePlugin.py:739: UserWarning: Possibly corrupt EXIF data.  Expecting to read 404619264 bytes but only got 0. Skipping tag 5\n",
      "  \" Skipping tag %s\" % (size, len(data), tag))\n",
      "C:\\Users\\bin b zhu\\AppData\\Local\\Continuum\\anaconda3\\lib\\site-packages\\PIL\\TiffImagePlugin.py:739: UserWarning: Possibly corrupt EXIF data.  Expecting to read 425459712 bytes but only got 0. Skipping tag 4\n",
      "  \" Skipping tag %s\" % (size, len(data), tag))\n",
      "C:\\Users\\bin b zhu\\AppData\\Local\\Continuum\\anaconda3\\lib\\site-packages\\PIL\\TiffImagePlugin.py:739: UserWarning: Possibly corrupt EXIF data.  Expecting to read 1385474 bytes but only got 6833. Skipping tag 513\n",
      "  \" Skipping tag %s\" % (size, len(data), tag))\n",
      "C:\\Users\\bin b zhu\\AppData\\Local\\Continuum\\anaconda3\\lib\\site-packages\\PIL\\TiffImagePlugin.py:739: UserWarning: Possibly corrupt EXIF data.  Expecting to read 3846701056 bytes but only got 0. Skipping tag 2\n",
      "  \" Skipping tag %s\" % (size, len(data), tag))\n",
      "C:\\Users\\bin b zhu\\AppData\\Local\\Continuum\\anaconda3\\lib\\site-packages\\PIL\\TiffImagePlugin.py:739: UserWarning: Possibly corrupt EXIF data.  Expecting to read 196867 bytes but only got 6833. Skipping tag 0\n",
      "  \" Skipping tag %s\" % (size, len(data), tag))\n",
      "C:\\Users\\bin b zhu\\AppData\\Local\\Continuum\\anaconda3\\lib\\site-packages\\PIL\\TiffImagePlugin.py:756: UserWarning: Corrupt EXIF data.  Expecting to read 12 bytes but only got 8. \n",
      "  warnings.warn(str(msg))\n"
     ]
    },
    {
     "name": "stdout",
     "output_type": "stream",
     "text": [
      "100/100 [==============================] - 181s 2s/step - loss: 0.6942 - acc: 0.5175 - val_loss: 0.6817 - val_acc: 0.5180\n",
      "Epoch 2/30\n",
      "100/100 [==============================] - 178s 2s/step - loss: 0.6782 - acc: 0.5713 - val_loss: 0.6614 - val_acc: 0.6170\n",
      "Epoch 3/30\n",
      "100/100 [==============================] - 182s 2s/step - loss: 0.6711 - acc: 0.5772 - val_loss: 0.6454 - val_acc: 0.6290\n",
      "Epoch 4/30\n",
      "100/100 [==============================] - 180s 2s/step - loss: 0.6554 - acc: 0.6131 - val_loss: 0.6460 - val_acc: 0.6130\n",
      "Epoch 5/30\n",
      "100/100 [==============================] - 181s 2s/step - loss: 0.6366 - acc: 0.6366 - val_loss: 0.6130 - val_acc: 0.6400\n",
      "Epoch 6/30\n",
      "100/100 [==============================] - 181s 2s/step - loss: 0.6182 - acc: 0.6500 - val_loss: 0.5827 - val_acc: 0.6960\n",
      "Epoch 7/30\n",
      "100/100 [==============================] - 187s 2s/step - loss: 0.6163 - acc: 0.6562 - val_loss: 0.6179 - val_acc: 0.6330\n",
      "Epoch 8/30\n",
      "100/100 [==============================] - 180s 2s/step - loss: 0.5985 - acc: 0.6769 - val_loss: 0.5591 - val_acc: 0.7160\n",
      "Epoch 9/30\n",
      "100/100 [==============================] - 202s 2s/step - loss: 0.5923 - acc: 0.6881 - val_loss: 0.5568 - val_acc: 0.7150\n",
      "Epoch 10/30\n",
      "100/100 [==============================] - 192s 2s/step - loss: 0.5817 - acc: 0.6950 - val_loss: 0.5532 - val_acc: 0.7090\n",
      "Epoch 11/30\n",
      "100/100 [==============================] - 192s 2s/step - loss: 0.5741 - acc: 0.6941 - val_loss: 0.5905 - val_acc: 0.6860\n",
      "Epoch 12/30\n",
      "100/100 [==============================] - 184s 2s/step - loss: 0.5733 - acc: 0.7000 - val_loss: 0.5385 - val_acc: 0.7160\n",
      "Epoch 13/30\n",
      "100/100 [==============================] - 194s 2s/step - loss: 0.5595 - acc: 0.7050 - val_loss: 0.5420 - val_acc: 0.7090\n",
      "Epoch 14/30\n",
      "100/100 [==============================] - 190s 2s/step - loss: 0.5463 - acc: 0.7219 - val_loss: 0.5325 - val_acc: 0.7220\n",
      "Epoch 15/30\n",
      "100/100 [==============================] - 192s 2s/step - loss: 0.5616 - acc: 0.7094 - val_loss: 0.5221 - val_acc: 0.7280\n",
      "Epoch 16/30\n",
      "100/100 [==============================] - 188s 2s/step - loss: 0.5384 - acc: 0.7328 - val_loss: 0.5040 - val_acc: 0.7650\n",
      "Epoch 17/30\n",
      "100/100 [==============================] - 193s 2s/step - loss: 0.5294 - acc: 0.7344 - val_loss: 0.5319 - val_acc: 0.7250\n",
      "Epoch 18/30\n",
      "100/100 [==============================] - 183s 2s/step - loss: 0.5371 - acc: 0.7322 - val_loss: 0.5135 - val_acc: 0.7430\n",
      "Epoch 19/30\n",
      "100/100 [==============================] - 183s 2s/step - loss: 0.5420 - acc: 0.7247 - val_loss: 0.5172 - val_acc: 0.7310\n",
      "Epoch 20/30\n",
      "100/100 [==============================] - 182s 2s/step - loss: 0.5334 - acc: 0.7353 - val_loss: 0.5042 - val_acc: 0.7470\n",
      "Epoch 21/30\n",
      "100/100 [==============================] - 183s 2s/step - loss: 0.5230 - acc: 0.7372 - val_loss: 0.5306 - val_acc: 0.7410\n",
      "Epoch 22/30\n",
      "100/100 [==============================] - 185s 2s/step - loss: 0.5154 - acc: 0.7509 - val_loss: 0.4941 - val_acc: 0.7520\n",
      "Epoch 23/30\n",
      "100/100 [==============================] - 181s 2s/step - loss: 0.5111 - acc: 0.7416 - val_loss: 0.5073 - val_acc: 0.7530\n",
      "Epoch 24/30\n",
      "100/100 [==============================] - 184s 2s/step - loss: 0.5056 - acc: 0.7456 - val_loss: 0.4834 - val_acc: 0.7690\n",
      "Epoch 25/30\n",
      "100/100 [==============================] - 181s 2s/step - loss: 0.5135 - acc: 0.7459 - val_loss: 0.4785 - val_acc: 0.7630\n",
      "Epoch 26/30\n",
      "100/100 [==============================] - 182s 2s/step - loss: 0.4980 - acc: 0.7522 - val_loss: 0.5199 - val_acc: 0.7410\n",
      "Epoch 27/30\n",
      "100/100 [==============================] - 182s 2s/step - loss: 0.4974 - acc: 0.7625 - val_loss: 0.5087 - val_acc: 0.7570\n",
      "Epoch 28/30\n",
      "100/100 [==============================] - 182s 2s/step - loss: 0.4940 - acc: 0.7663 - val_loss: 0.5199 - val_acc: 0.7440\n",
      "Epoch 29/30\n",
      "100/100 [==============================] - 182s 2s/step - loss: 0.4978 - acc: 0.7466 - val_loss: 0.4916 - val_acc: 0.7530\n",
      "Epoch 30/30\n",
      "100/100 [==============================] - 184s 2s/step - loss: 0.4930 - acc: 0.7581 - val_loss: 0.4522 - val_acc: 0.7860\n"
     ]
    }
   ],
   "source": [
    "history = network.fit_generator(train_generator, \n",
    "                                steps_per_epoch=100, \n",
    "                                epochs=30, \n",
    "                                validation_data=validation_generator, \n",
    "                                validation_steps=50)"
   ]
  },
  {
   "cell_type": "code",
   "execution_count": 72,
   "metadata": {},
   "outputs": [],
   "source": [
    "network.save('cats_and_dogs_small_2.h5')"
   ]
  },
  {
   "cell_type": "code",
   "execution_count": 46,
   "metadata": {},
   "outputs": [],
   "source": [
    "import matplotlib.pyplot as plt\n",
    "%matplotlib inline"
   ]
  },
  {
   "cell_type": "code",
   "execution_count": 73,
   "metadata": {},
   "outputs": [],
   "source": [
    "acc = history.history['acc']\n",
    "val_acc = history.history['val_acc']\n",
    "loss = history.history['loss']\n",
    "val_loss = history.history['val_loss']"
   ]
  },
  {
   "cell_type": "code",
   "execution_count": 74,
   "metadata": {},
   "outputs": [],
   "source": [
    "epochs = range(1, len(acc)+1)"
   ]
  },
  {
   "cell_type": "code",
   "execution_count": 75,
   "metadata": {},
   "outputs": [
    {
     "data": {
      "image/png": "[encoded data removed]",
      "text/plain": [
       "<Figure size 432x288 with 1 Axes>"
      ]
     },
     "metadata": {},
     "output_type": "display_data"
    },
    {
     "data": {
      "image/png": "[encoded data removed]",
      "text/plain": [
       "<Figure size 432x288 with 1 Axes>"
      ]
     },
     "metadata": {},
     "output_type": "display_data"
    }
   ],
   "source": [
    "plt.plot(epochs, acc, 'bo', label='Training acc')\n",
    "plt.plot(epochs, val_acc, 'b', label='Validation acc')\n",
    "plt.legend()\n",
    "plt.figure()\n",
    "plt.plot(epochs, loss, 'bo', label='Training loss')\n",
    "plt.plot(epochs, val_loss, 'b', label='Validation loss')\n",
    "plt.legend()\n",
    "plt.show()"
   ]
  },
  {
   "cell_type": "code",
   "execution_count": 53,
   "metadata": {},
   "outputs": [],
   "source": [
    "datagen = ImageDataGenerator(rotation_range=40, \n",
    "                             width_shift_range=0.2, \n",
    "                             height_shift_range=0.2, \n",
    "                             shear_range=0.2, \n",
    "                             zoom_range=0.2, \n",
    "                             horizontal_flip=True, \n",
    "                             fill_mode='nearest')"
   ]
  },
  {
   "cell_type": "code",
   "execution_count": 57,
   "metadata": {},
   "outputs": [],
   "source": [
    "img = image.load_img('PetImages/Cat/3.jpg', target_size=(150, 150))\n",
    "x = image.img_to_array(img)\n",
    "x = x.reshape((1, ) + x.shape)"
   ]
  },
  {
   "cell_type": "code",
   "execution_count": null,
   "metadata": {},
   "outputs": [],
   "source": [
    "i = 0\n",
    "for batch in datagen.flow(x, batch_size=1):\n",
    "    plt.figure(i)\n",
    "    plt.imshow(image.array_to_img(batch[0]))\n",
    "    i += 1\n",
    "    if i > 4:\n",
    "        break\n",
    "plt.show()"
   ]
  }
 ],
 "metadata": {
  "kernelspec": {
   "display_name": "Python 3",
   "language": "python",
   "name": "python3"
  },
  "language_info": {
   "codemirror_mode": {
    "name": "ipython",
    "version": 3
   },
   "file_extension": ".py",
   "mimetype": "text/x-python",
   "name": "python",
   "nbconvert_exporter": "python",
   "pygments_lexer": "ipython3",
   "version": "3.6.5"
  }
 },
 "nbformat": 4,
 "nbformat_minor": 2
}
