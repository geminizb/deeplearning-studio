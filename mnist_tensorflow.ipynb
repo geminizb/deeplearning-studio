{
 "cells": [
  {
   "cell_type": "code",
   "execution_count": 1,
   "metadata": {},
   "outputs": [
    {
     "name": "stderr",
     "output_type": "stream",
     "text": [
      "C:\\Users\\bin b zhu\\AppData\\Local\\Continuum\\anaconda3\\lib\\site-packages\\h5py\\__init__.py:36: FutureWarning: Conversion of the second argument of issubdtype from `float` to `np.floating` is deprecated. In future, it will be treated as `np.float64 == np.dtype(float).type`.\n",
      "  from ._conv import register_converters as _register_converters\n"
     ]
    }
   ],
   "source": [
    "import tensorflow as tf\n",
    "import numpy as np\n",
    "import random"
   ]
  },
  {
   "cell_type": "code",
   "execution_count": 25,
   "metadata": {},
   "outputs": [],
   "source": [
    "class NeuralNetwork:\n",
    "    def __init__(self, inodes, hnodes, onodes, learningrate):\n",
    "        self.lr = learningrate\n",
    "        \n",
    "#         wih = tf.Variable(tf.truncated_normal([inodes, hnodes], stddev=0.1))\n",
    "#         bih = tf.Variable(tf.constant(0.01, shape=[hnodes]))\n",
    "        \n",
    "#         self.x = tf.placeholder(tf.float32, [None, inodes])\n",
    "#         hidden = tf.nn.relu(tf.matmul(self.x, wih) + bih)\n",
    "        \n",
    "#         who = tf.Variable(tf.truncated_normal([hnodes, onodes], stddev=0.1))\n",
    "#         bho = tf.Variable(tf.constant(0.01, shape=[onodes]))\n",
    "        \n",
    "#         self.y = tf.nn.softmax(tf.matmul(hidden, who) + bho)\n",
    "#         self.y_real = tf.placeholder(tf.float32, [None, onodes])\n",
    "        \n",
    "        w = tf.Variable(tf.truncated_normal([inodes, onodes], stddev=0.1))\n",
    "        b = tf.Variable(tf.constant(0.01, shape=[onodes]))\n",
    "        \n",
    "        self.x = tf.placeholder(tf.float32, [None, inodes])\n",
    "        self.y = tf.nn.softmax(tf.matmul(self.x, w) + b)\n",
    "        self.y_real = tf.placeholder(tf.float32, [None, onodes])\n",
    "        \n",
    "        self.loss = -tf.reduce_mean(self.y_real * tf.log(self.y))\n",
    "        self.train_step = tf.train.GradientDescentOptimizer(self.lr).minimize(self.loss)\n",
    "        \n",
    "        evaluate = tf.equal(tf.argmax(self.y, axis=1), tf.argmax(self.y_real, axis=1))\n",
    "        self.accuracy = tf.reduce_mean(tf.cast(evaluate, 'float'))\n",
    "        \n",
    "        self.sess = tf.Session()\n",
    "        self.sess.run(tf.global_variables_initializer())\n",
    "        \n",
    "    def train(self, inputs, targets):\n",
    "        train_num = inputs.shape[0]\n",
    "        for i in range(1000):\n",
    "            batch_index = random.sample(range(train_num), 100)\n",
    "            x_batch = inputs[batch_index]\n",
    "            y_batch = targets[batch_index]\n",
    "            \n",
    "            _, cost = self.sess.run([self.train_step, self.loss], \n",
    "                                    feed_dict={self.x: x_batch, self.y_real: y_batch})\n",
    "            \n",
    "            if (i+1) % 100 == 0:\n",
    "                print('round {} with loss: {}'.format(i+1, cost))\n",
    "            \n",
    "    def test(self, inputs, targets):\n",
    "        accuracy = self.sess.run(self.accuracy, feed_dict={self.x: inputs, self.y_real: targets})\n",
    "        print('accuracy: {}'.format(accuracy))\n",
    "        \n",
    "    def query(self, inputs):\n",
    "        return self.sess.run(self.y, feed_dict={self.x: inputs})"
   ]
  },
  {
   "cell_type": "code",
   "execution_count": 29,
   "metadata": {},
   "outputs": [],
   "source": [
    "inodes = 784\n",
    "hnodes = 100\n",
    "onodes = 10\n",
    "learningrate = 0.1\n",
    "\n",
    "n = NeuralNetwork(inodes, hnodes, onodes, learningrate)"
   ]
  },
  {
   "cell_type": "code",
   "execution_count": 23,
   "metadata": {},
   "outputs": [],
   "source": [
    "def read_data(filename):\n",
    "    with open(filename, 'r') as file:\n",
    "        lines = file.readlines()\n",
    "    \n",
    "    input_list = []\n",
    "    target_list = []\n",
    "    for record in lines:\n",
    "        all_values = record.split(',')\n",
    "        inputs = np.asfarray(all_values[1:]) / 255.0\n",
    "        targets = np.zeros(10)\n",
    "        targets[int(all_values[0])] = 1\n",
    "\n",
    "        input_list.append(inputs)\n",
    "        target_list.append(targets)\n",
    "    \n",
    "    num = len(lines)    \n",
    "    input_array = np.array(input_list).reshape(num, 784)\n",
    "    target_array = np.array(target_list).reshape(num, 10)\n",
    "    \n",
    "    return input_array, target_array"
   ]
  },
  {
   "cell_type": "code",
   "execution_count": 17,
   "metadata": {},
   "outputs": [],
   "source": [
    "train_inputs, train_targets = read_data('mnist_data/mnist_train.csv')"
   ]
  },
  {
   "cell_type": "code",
   "execution_count": 32,
   "metadata": {},
   "outputs": [
    {
     "name": "stdout",
     "output_type": "stream",
     "text": [
      "round 100 with loss: 0.06813202053308487\n",
      "round 200 with loss: 0.06217574328184128\n",
      "round 300 with loss: 0.050233013927936554\n",
      "round 400 with loss: 0.05394697189331055\n",
      "round 500 with loss: 0.07053254544734955\n",
      "round 600 with loss: 0.05798392370343208\n",
      "round 700 with loss: 0.048956215381622314\n",
      "round 800 with loss: 0.039497260004282\n",
      "round 900 with loss: 0.04625678434967995\n",
      "round 1000 with loss: 0.04699747636914253\n"
     ]
    }
   ],
   "source": [
    "n.train(train_inputs, train_targets)"
   ]
  },
  {
   "cell_type": "code",
   "execution_count": 19,
   "metadata": {},
   "outputs": [],
   "source": [
    "test_inputs, test_targets = read_data('mnist_data/mnist_test.csv')"
   ]
  },
  {
   "cell_type": "code",
   "execution_count": 33,
   "metadata": {},
   "outputs": [
    {
     "name": "stdout",
     "output_type": "stream",
     "text": [
      "accuracy: 0.8776000142097473\n"
     ]
    }
   ],
   "source": [
    "n.test(test_inputs, test_targets)"
   ]
  },
  {
   "cell_type": "code",
   "execution_count": 26,
   "metadata": {},
   "outputs": [
    {
     "data": {
      "text/plain": [
       "array([[0., 0., 0., ..., 0., 0., 0.],\n",
       "       [0., 0., 0., ..., 0., 0., 0.],\n",
       "       [0., 0., 0., ..., 0., 0., 0.],\n",
       "       ...,\n",
       "       [0., 0., 0., ..., 0., 0., 0.],\n",
       "       [0., 0., 0., ..., 0., 0., 0.],\n",
       "       [0., 0., 0., ..., 0., 0., 0.]])"
      ]
     },
     "execution_count": 26,
     "metadata": {},
     "output_type": "execute_result"
    }
   ],
   "source": [
    "test_inputs"
   ]
  },
  {
   "cell_type": "code",
   "execution_count": 14,
   "metadata": {},
   "outputs": [
    {
     "data": {
      "text/plain": [
       "7"
      ]
     },
     "execution_count": 14,
     "metadata": {},
     "output_type": "execute_result"
    }
   ],
   "source": [
    "np.argmax(n.query(test_inputs[0].reshape(1, 784)))"
   ]
  },
  {
   "cell_type": "code",
   "execution_count": 15,
   "metadata": {},
   "outputs": [
    {
     "data": {
      "text/plain": [
       "7"
      ]
     },
     "execution_count": 15,
     "metadata": {},
     "output_type": "execute_result"
    }
   ],
   "source": [
    "np.argmax(test_targets[0])"
   ]
  }
 ],
 "metadata": {
  "kernelspec": {
   "display_name": "Python 3",
   "language": "python",
   "name": "python3"
  },
  "language_info": {
   "codemirror_mode": {
    "name": "ipython",
    "version": 3
   },
   "file_extension": ".py",
   "mimetype": "text/x-python",
   "name": "python",
   "nbconvert_exporter": "python",
   "pygments_lexer": "ipython3",
   "version": "3.6.5"
  }
 },
 "nbformat": 4,
 "nbformat_minor": 2
}
