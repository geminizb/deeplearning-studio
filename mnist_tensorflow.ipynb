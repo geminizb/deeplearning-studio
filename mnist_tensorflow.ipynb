{
 "cells": [
  {
   "cell_type": "code",
   "execution_count": 1,
   "metadata": {},
   "outputs": [
    {
     "name": "stderr",
     "output_type": "stream",
     "text": [
      "C:\\Users\\bin b zhu\\AppData\\Local\\Continuum\\anaconda3\\lib\\site-packages\\h5py\\__init__.py:36: FutureWarning: Conversion of the second argument of issubdtype from `float` to `np.floating` is deprecated. In future, it will be treated as `np.float64 == np.dtype(float).type`.\n",
      "  from ._conv import register_converters as _register_converters\n"
     ]
    }
   ],
   "source": [
    "import tensorflow as tf\n",
    "import numpy as np\n",
    "import random"
   ]
  },
  {
   "cell_type": "code",
   "execution_count": 39,
   "metadata": {},
   "outputs": [],
   "source": [
    "class NeuralNetwork:\n",
    "    def __init__(self, inodes, hnodes, onodes, learningrate):\n",
    "        self.lr = learningrate\n",
    "        \n",
    "        wih = tf.Variable(tf.truncated_normal([inodes, hnodes], stddev=0.1))\n",
    "        bih = tf.Variable(tf.constant(0.01, shape=[hnodes]))\n",
    "        \n",
    "        self.x = tf.placeholder(tf.float32, [None, inodes])\n",
    "        hidden = tf.nn.relu(tf.matmul(self.x, wih) + bih)\n",
    "        \n",
    "        who = tf.Variable(tf.truncated_normal([hnodes, onodes], stddev=0.1))\n",
    "        bho = tf.Variable(tf.constant(0.01, shape=[onodes]))\n",
    "        \n",
    "        self.y = tf.nn.softmax(tf.matmul(hidden, who) + bho)\n",
    "        self.y_real = tf.placeholder(tf.float32, [None, onodes])\n",
    "        \n",
    "#         w = tf.Variable(tf.zeros([inodes, onodes]))\n",
    "#         b = tf.Variable(tf.zeros([onodes]))\n",
    "        \n",
    "#         self.x = tf.placeholder(tf.float32, [None, inodes])\n",
    "#         self.y = tf.nn.softmax(tf.matmul(self.x, w) + b)\n",
    "#         self.y_real = tf.placeholder(tf.float32, [None, onodes])\n",
    "        \n",
    "        #self.cost = -tf.reduce_sum(self.y_real * tf.log(self.y))\n",
    "        self.cost = tf.cost.cross_entropy(self.y, self.y_real)\n",
    "        self.train_step = tf.train.GradientDescentOptimizer(self.lr).minimize(self.cost)\n",
    "        \n",
    "        evaluate = tf.equal(tf.argmax(self.y, axis=1), tf.argmax(self.y_real, axis=1))\n",
    "        self.accuracy = tf.reduce_mean(tf.cast(evaluate, 'float'))\n",
    "        \n",
    "        self.sess = tf.Session()\n",
    "        self.sess.run(tf.global_variables_initializer())\n",
    "        \n",
    "    def train(self, inputs, targets):\n",
    "        train_num = inputs.shape[0]\n",
    "        for i in range(1000):\n",
    "            batch_index = random.sample(range(train_num), 100)\n",
    "            x_batch = inputs[batch_index]\n",
    "            y_batch = targets[batch_index]\n",
    "            \n",
    "            _, cost = self.sess.run([self.train_step, self.cost], \n",
    "                                    feed_dict={self.x: x_batch, self.y_real: y_batch})\n",
    "            \n",
    "            if (i+1) % 100 == 0:\n",
    "                print('round {} with cost: {}'.format(i+1, cost))\n",
    "            \n",
    "    def test(self, inputs, targets):\n",
    "        accuracy = self.sess.run(self.accuracy, feed_dict={self.x: inputs, self.y_real: targets})\n",
    "        print('accuracy: {}'.format(accuracy))\n",
    "        \n",
    "    def query(self, inputs):\n",
    "        return self.sess.run(self.y, feed_dict={self.x: inputs})"
   ]
  },
  {
   "cell_type": "code",
   "execution_count": 40,
   "metadata": {},
   "outputs": [
    {
     "ename": "AttributeError",
     "evalue": "module 'tensorflow._api.v1.losses' has no attribute 'cross_entropy'",
     "output_type": "error",
     "traceback": [
      "\u001b[1;31m---------------------------------------------------------------------------\u001b[0m",
      "\u001b[1;31mAttributeError\u001b[0m                            Traceback (most recent call last)",
      "\u001b[1;32m<ipython-input-40-57caf56abf1d>\u001b[0m in \u001b[0;36m<module>\u001b[1;34m()\u001b[0m\n\u001b[0;32m      4\u001b[0m \u001b[0mlearningrate\u001b[0m \u001b[1;33m=\u001b[0m \u001b[1;36m0.1\u001b[0m\u001b[1;33m\u001b[0m\u001b[0m\n\u001b[0;32m      5\u001b[0m \u001b[1;33m\u001b[0m\u001b[0m\n\u001b[1;32m----> 6\u001b[1;33m \u001b[0mn\u001b[0m \u001b[1;33m=\u001b[0m \u001b[0mNeuralNetwork\u001b[0m\u001b[1;33m(\u001b[0m\u001b[0minodes\u001b[0m\u001b[1;33m,\u001b[0m \u001b[0mhnodes\u001b[0m\u001b[1;33m,\u001b[0m \u001b[0monodes\u001b[0m\u001b[1;33m,\u001b[0m \u001b[0mlearningrate\u001b[0m\u001b[1;33m)\u001b[0m\u001b[1;33m\u001b[0m\u001b[0m\n\u001b[0m",
      "\u001b[1;32m<ipython-input-39-e54c9466be1e>\u001b[0m in \u001b[0;36m__init__\u001b[1;34m(self, inodes, hnodes, onodes, learningrate)\u001b[0m\n\u001b[0;32m     23\u001b[0m \u001b[1;33m\u001b[0m\u001b[0m\n\u001b[0;32m     24\u001b[0m         \u001b[1;31m#self.cost = -tf.reduce_sum(self.y_real * tf.log(self.y))\u001b[0m\u001b[1;33m\u001b[0m\u001b[1;33m\u001b[0m\u001b[0m\n\u001b[1;32m---> 25\u001b[1;33m         \u001b[0mself\u001b[0m\u001b[1;33m.\u001b[0m\u001b[0mcost\u001b[0m \u001b[1;33m=\u001b[0m \u001b[0mtf\u001b[0m\u001b[1;33m.\u001b[0m\u001b[0mlosses\u001b[0m\u001b[1;33m.\u001b[0m\u001b[0mcross_entropy\u001b[0m\u001b[1;33m(\u001b[0m\u001b[0mself\u001b[0m\u001b[1;33m.\u001b[0m\u001b[0my\u001b[0m\u001b[1;33m,\u001b[0m \u001b[0mself\u001b[0m\u001b[1;33m.\u001b[0m\u001b[0my_real\u001b[0m\u001b[1;33m)\u001b[0m\u001b[1;33m\u001b[0m\u001b[0m\n\u001b[0m\u001b[0;32m     26\u001b[0m         \u001b[0mself\u001b[0m\u001b[1;33m.\u001b[0m\u001b[0mtrain_step\u001b[0m \u001b[1;33m=\u001b[0m \u001b[0mtf\u001b[0m\u001b[1;33m.\u001b[0m\u001b[0mtrain\u001b[0m\u001b[1;33m.\u001b[0m\u001b[0mGradientDescentOptimizer\u001b[0m\u001b[1;33m(\u001b[0m\u001b[0mself\u001b[0m\u001b[1;33m.\u001b[0m\u001b[0mlr\u001b[0m\u001b[1;33m)\u001b[0m\u001b[1;33m.\u001b[0m\u001b[0mminimize\u001b[0m\u001b[1;33m(\u001b[0m\u001b[0mself\u001b[0m\u001b[1;33m.\u001b[0m\u001b[0mcost\u001b[0m\u001b[1;33m)\u001b[0m\u001b[1;33m\u001b[0m\u001b[0m\n\u001b[0;32m     27\u001b[0m \u001b[1;33m\u001b[0m\u001b[0m\n",
      "\u001b[1;31mAttributeError\u001b[0m: module 'tensorflow._api.v1.losses' has no attribute 'cross_entropy'"
     ]
    }
   ],
   "source": [
    "inodes = 784\n",
    "hnodes = 512\n",
    "onodes = 10\n",
    "learningrate = 0.1\n",
    "\n",
    "n = NeuralNetwork(inodes, hnodes, onodes, learningrate)"
   ]
  },
  {
   "cell_type": "code",
   "execution_count": 6,
   "metadata": {},
   "outputs": [],
   "source": [
    "def read_data(filename):\n",
    "    with open(filename, 'r') as file:\n",
    "        lines = file.readlines()\n",
    "    \n",
    "    input_list = []\n",
    "    target_list = []\n",
    "    for record in lines:\n",
    "        all_values = record.split(',')\n",
    "        inputs = np.asfarray(all_values[1:]) / 255.0 * 0.99 + 0.01\n",
    "        targets = np.zeros(10) + 0.01\n",
    "        targets[int(all_values[0])] = 0.99\n",
    "#         targets = np.zeros(10)\n",
    "#         targets[int(all_values[0])] = 1\n",
    "\n",
    "        input_list.append(inputs)\n",
    "        target_list.append(targets)\n",
    "    \n",
    "    num = len(lines)    \n",
    "    input_array = np.array(input_list).reshape(num, 784)\n",
    "    target_array = np.array(target_list).reshape(num, 10)\n",
    "    \n",
    "    return input_array, target_array"
   ]
  },
  {
   "cell_type": "code",
   "execution_count": 7,
   "metadata": {},
   "outputs": [],
   "source": [
    "train_inputs, train_targets = read_data('mnist_data/mnist_train.csv')"
   ]
  },
  {
   "cell_type": "code",
   "execution_count": 36,
   "metadata": {},
   "outputs": [
    {
     "name": "stdout",
     "output_type": "stream",
     "text": [
      "round 100 with cost: 0.12991535663604736\n",
      "round 200 with cost: 0.11197242885828018\n",
      "round 300 with cost: 0.11741175502538681\n",
      "round 400 with cost: 0.10495136678218842\n",
      "round 500 with cost: 0.09501896798610687\n",
      "round 600 with cost: 0.08439755439758301\n",
      "round 700 with cost: 0.10105239599943161\n",
      "round 800 with cost: 0.0948493704199791\n",
      "round 900 with cost: 0.09230821579694748\n",
      "round 1000 with cost: 0.07722025364637375\n"
     ]
    }
   ],
   "source": [
    "n.train(train_inputs, train_targets)"
   ]
  },
  {
   "cell_type": "code",
   "execution_count": 9,
   "metadata": {},
   "outputs": [],
   "source": [
    "test_inputs, test_targets = read_data('mnist_data/mnist_test.csv')"
   ]
  },
  {
   "cell_type": "code",
   "execution_count": 30,
   "metadata": {},
   "outputs": [
    {
     "name": "stdout",
     "output_type": "stream",
     "text": [
      "accuracy: 0.8970999717712402\n"
     ]
    }
   ],
   "source": [
    "n.test(test_inputs, test_targets)"
   ]
  },
  {
   "cell_type": "code",
   "execution_count": 34,
   "metadata": {},
   "outputs": [
    {
     "data": {
      "text/plain": [
       "array([[0.01, 0.01, 0.01, ..., 0.01, 0.01, 0.01],\n",
       "       [0.01, 0.01, 0.01, ..., 0.01, 0.01, 0.01],\n",
       "       [0.01, 0.01, 0.01, ..., 0.01, 0.01, 0.01],\n",
       "       ...,\n",
       "       [0.01, 0.01, 0.01, ..., 0.01, 0.01, 0.01],\n",
       "       [0.01, 0.01, 0.01, ..., 0.01, 0.01, 0.01],\n",
       "       [0.01, 0.01, 0.01, ..., 0.01, 0.01, 0.01]])"
      ]
     },
     "execution_count": 34,
     "metadata": {},
     "output_type": "execute_result"
    }
   ],
   "source": [
    "test_inputs"
   ]
  },
  {
   "cell_type": "code",
   "execution_count": 14,
   "metadata": {},
   "outputs": [
    {
     "data": {
      "text/plain": [
       "7"
      ]
     },
     "execution_count": 14,
     "metadata": {},
     "output_type": "execute_result"
    }
   ],
   "source": [
    "np.argmax(n.query(test_inputs[0].reshape(1, 784)))"
   ]
  },
  {
   "cell_type": "code",
   "execution_count": 15,
   "metadata": {},
   "outputs": [
    {
     "data": {
      "text/plain": [
       "7"
      ]
     },
     "execution_count": 15,
     "metadata": {},
     "output_type": "execute_result"
    }
   ],
   "source": [
    "np.argmax(test_targets[0])"
   ]
  }
 ],
 "metadata": {
  "kernelspec": {
   "display_name": "Python 3",
   "language": "python",
   "name": "python3"
  },
  "language_info": {
   "codemirror_mode": {
    "name": "ipython",
    "version": 3
   },
   "file_extension": ".py",
   "mimetype": "text/x-python",
   "name": "python",
   "nbconvert_exporter": "python",
   "pygments_lexer": "ipython3",
   "version": "3.6.5"
  }
 },
 "nbformat": 4,
 "nbformat_minor": 2
}
